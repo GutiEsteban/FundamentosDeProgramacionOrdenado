{
 "cells": [
  {
   "cell_type": "markdown",
   "metadata": {},
   "source": [
    "# Ejercicio 7\n",
    "# Realice un programa que simule una calculadora básica, con las operaciones: suma, resta, multiplicación, división y potencia."
   ]
  },
  {
   "cell_type": "code",
   "execution_count": 6,
   "metadata": {},
   "outputs": [
    {
     "name": "stdout",
     "output_type": "stream",
     "text": [
      "ingrese el primer numero: 2\n",
      "ingrese el segundo numero: 6\n",
      "Escriba la operacion a realizar: 1.SUMA 2.RESTA 3.MULTIPLICACION 4.DIVISION 5.POTENCIA  en caso de ser potencia indique primero la base y luego el exponente 5\n",
      "El resultado de la potencia es : 64\n"
     ]
    }
   ],
   "source": [
    "num1=int(input(\"ingrese el primer numero: \"))\n",
    "num2=int(input(\"ingrese el segundo numero: \"))\n",
    "operacion=int(input(\"Escriba la operacion a realizar: 1.SUMA 2.RESTA 3.MULTIPLICACION 4.DIVISION 5.POTENCIA  en caso de ser potencia indique primero la base y luego el exponente \"))\n",
    "if (operacion == 1):\n",
    "    suma=num1+num2\n",
    "    print(\"el resultado de la suma es: \",suma)\n",
    "if (operacion == 2):\n",
    "    resta=num1-num2\n",
    "    print(\"El resultado de la resta es:\",resta)\n",
    "if (operacion == 3):\n",
    "    multiplicacion=num1*num2\n",
    "    print(\"El resultado de la multiplicacion es:\",multiplicacion)\n",
    "if (operacion == 4):\n",
    "    division=num1/num2\n",
    "    print(\"El resultado de la division es:\",division)\n",
    "if (operacion == 5):\n",
    "    potencia=num1**num2\n",
    "    print(\"El resultado de la potencia es :\",potencia)\n",
    "                       "
   ]
  }
 ],
 "metadata": {
  "kernelspec": {
   "display_name": "Python 3",
   "language": "python",
   "name": "python3"
  },
  "language_info": {
   "codemirror_mode": {
    "name": "ipython",
    "version": 3
   },
   "file_extension": ".py",
   "mimetype": "text/x-python",
   "name": "python",
   "nbconvert_exporter": "python",
   "pygments_lexer": "ipython3",
   "version": "3.8.5"
  }
 },
 "nbformat": 4,
 "nbformat_minor": 4
}
