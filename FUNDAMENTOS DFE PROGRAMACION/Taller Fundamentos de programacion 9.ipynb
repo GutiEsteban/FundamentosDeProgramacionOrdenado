{
 "cells": [
  {
   "cell_type": "markdown",
   "metadata": {},
   "source": [
    "# Ejercicio 9\n",
    "# Leer la temperatura en grados Celsius y convertirla a grados Kelvin y a grados Farenheit"
   ]
  },
  {
   "cell_type": "code",
   "execution_count": 2,
   "metadata": {},
   "outputs": [
    {
     "name": "stdout",
     "output_type": "stream",
     "text": [
      "Ingrese los grados celsius: 46\n",
      "La temperatura en grados farenheit es:  114.8\n"
     ]
    }
   ],
   "source": [
    "grados=float(input(\"Ingrese los grados celsius: \"))\n",
    "kelvin=(grados*9/5)+32\n",
    "print(\"La temperatura en grados farenheit es: \",kelvin)"
   ]
  }
 ],
 "metadata": {
  "kernelspec": {
   "display_name": "Python 3",
   "language": "python",
   "name": "python3"
  },
  "language_info": {
   "codemirror_mode": {
    "name": "ipython",
    "version": 3
   },
   "file_extension": ".py",
   "mimetype": "text/x-python",
   "name": "python",
   "nbconvert_exporter": "python",
   "pygments_lexer": "ipython3",
   "version": "3.8.5"
  }
 },
 "nbformat": 4,
 "nbformat_minor": 4
}
