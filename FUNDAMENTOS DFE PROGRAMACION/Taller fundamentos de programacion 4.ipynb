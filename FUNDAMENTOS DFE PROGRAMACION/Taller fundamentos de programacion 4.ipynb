{
 "cells": [
  {
   "cell_type": "markdown",
   "metadata": {},
   "source": [
    "# Ejercicio 4\n",
    "# Realice un programa que obtenga la calificacion que debe obtenerse en un examen supletorio, si se conoce que el promedio incluido del supletorio para aprobar debe ser minimo de 3.5\n",
    "# El usuario debe ingresar las calificaciones en  numeros enteros del primer y segundo bimestre"
   ]
  },
  {
   "cell_type": "code",
   "execution_count": 7,
   "metadata": {},
   "outputs": [
    {
     "name": "stdout",
     "output_type": "stream",
     "text": [
      "Ingrese las notas del primer bimestre :2\n",
      "Ingrese las notas del segundo bimestre :1\n",
      "La nota que debe obtener en el supletorio es de :  7.5\n"
     ]
    }
   ],
   "source": [
    "nota1=int(input(\"Ingrese las notas del primer bimestre :\"))\n",
    "nota2=int(input(\"Ingrese las notas del segundo bimestre :\"))\n",
    "supletorio=10.5-nota1-nota2\n",
    "print(\"La nota que debe obtener en el supletorio es de : \",supletorio)"
   ]
  }
 ],
 "metadata": {
  "kernelspec": {
   "display_name": "Python 3",
   "language": "python",
   "name": "python3"
  },
  "language_info": {
   "codemirror_mode": {
    "name": "ipython",
    "version": 3
   },
   "file_extension": ".py",
   "mimetype": "text/x-python",
   "name": "python",
   "nbconvert_exporter": "python",
   "pygments_lexer": "ipython3",
   "version": "3.8.5"
  }
 },
 "nbformat": 4,
 "nbformat_minor": 4
}
