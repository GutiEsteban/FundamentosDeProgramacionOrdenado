{
 "cells": [
  {
   "cell_type": "markdown",
   "metadata": {},
   "source": [
    "# Ejercicio 6\n",
    "# Realice un programa que resuelva lo siguiente: Si n Empleados  realizan una actividad en k horas, ¿cuántos empleados se necesitarán para realizar la misma actividad en k1 horas?"
   ]
  },
  {
   "cell_type": "code",
   "execution_count": 28,
   "metadata": {},
   "outputs": [
    {
     "ename": "SyntaxError",
     "evalue": "invalid syntax (<ipython-input-28-a8c6af881283>, line 4)",
     "output_type": "error",
     "traceback": [
      "\u001b[1;36m  File \u001b[1;32m\"<ipython-input-28-a8c6af881283>\"\u001b[1;36m, line \u001b[1;32m4\u001b[0m\n\u001b[1;33m    if operacion == 1\u001b[0m\n\u001b[1;37m                     ^\u001b[0m\n\u001b[1;31mSyntaxError\u001b[0m\u001b[1;31m:\u001b[0m invalid syntax\n"
     ]
    }
   ],
   "source": [
    "num1=int(input(\"ingrese el primer numero: \"))\n",
    "num2=int(input(\"ingrese el segundo numero: \"))\n",
    "operacion=int)input(\"Escriba la operacion a realizar: 1.SUMA 2.RESTA 3.MULTIPLICACION 4.DIVISION 5.POTENCIA \")\n",
    "if operacion == 1\n",
    "num3=num1+num2\n",
    "print(\"el resultado de la suma es: \",suma)\n",
    "if operacion == 2:\n",
    "resta=num1-num2\n",
    "print(\"El resultado de la resta es:\",resta)"
   ]
  }
 ],
 "metadata": {
  "kernelspec": {
   "display_name": "Python 3",
   "language": "python",
   "name": "python3"
  },
  "language_info": {
   "codemirror_mode": {
    "name": "ipython",
    "version": 3
   },
   "file_extension": ".py",
   "mimetype": "text/x-python",
   "name": "python",
   "nbconvert_exporter": "python",
   "pygments_lexer": "ipython3",
   "version": "3.8.5"
  }
 },
 "nbformat": 4,
 "nbformat_minor": 4
}
