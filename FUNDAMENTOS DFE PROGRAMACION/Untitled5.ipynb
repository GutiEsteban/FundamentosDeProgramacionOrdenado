{
 "cells": [
  {
   "cell_type": "code",
   "execution_count": 1,
   "metadata": {},
   "outputs": [],
   "source": [
    "## Leer nombre de un estudiante ,las notas de los 3 parciales , el acomulado de inasistencias y calcular\n",
    "## la nota definitiva sabiendo que PP tiene un % del 35% , sp tiene un % del 35% y el restante es para el tercer parcial. Imprimir la nota definitiva mas un concepto:\n",
    "# gano academicamente                             fallas <a 12 y nota definitiva >=3\n",
    "# perdio academicamente                           fallas < a 12 y nota definitiva <3\n",
    "# perdio por inasistencia                         fallas < a 12 y nota definitiva no importa y se divide por la mitad\n",
    "# perdio academicamente y por inasistencia        fallas > a 12 y notas definitiva <3"
   ]
  },
  {
   "cell_type": "code",
   "execution_count": null,
   "metadata": {},
   "outputs": [],
   "source": [
    "nombre_del_estudiante=input(\"Ingrese su nombre :\")\n",
    "pparcial=int(input(\"Ingrese su nota del primer parcial :\"))\n",
    "sparcial=int(input(\"Ingrese su nota del segundo parcial :\"))\n",
    "tparcial=int(input(\"Ingrese su nota del tercer parcial :\"))\n",
    "acomulado_de_inasistencia=int(input(\"Ingrese el numero de fallas que tuvo :\"))\n",
    "promedio=(pparcial+sparcial+tparcial)/3\n",
    "if promedio>=3 and acomulado_de_inasistencia<12:\n",
    "    print(\"¡Gano Academicamente¡\")\n",
    "if promedio<3 and acomulado_de_inasistencias<12:\n",
    "          print(\"Perdio academicamente\")\n",
    "if acomulado_de_inasistencia>12:\n",
    "          print(\"perdio por inasistencia\")\n",
    "if promedio<3 and acomulado_de_inasistencia>12:\n",
    "          print(\"perdio academicamente y por inasistencia\")\n",
    "          "
   ]
  },
  {
   "cell_type": "code",
   "execution_count": null,
   "metadata": {},
   "outputs": [],
   "source": []
  }
 ],
 "metadata": {
  "kernelspec": {
   "display_name": "Python 3",
   "language": "python",
   "name": "python3"
  },
  "language_info": {
   "codemirror_mode": {
    "name": "ipython",
    "version": 3
   },
   "file_extension": ".py",
   "mimetype": "text/x-python",
   "name": "python",
   "nbconvert_exporter": "python",
   "pygments_lexer": "ipython3",
   "version": "3.8.5"
  }
 },
 "nbformat": 4,
 "nbformat_minor": 4
}
