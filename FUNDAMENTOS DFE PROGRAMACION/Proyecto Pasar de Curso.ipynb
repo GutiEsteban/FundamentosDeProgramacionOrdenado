{
 "cells": [
  {
   "cell_type": "code",
   "execution_count": 5,
   "metadata": {},
   "outputs": [
    {
     "name": "stdout",
     "output_type": "stream",
     "text": [
      "Ingrese su nombre :e\n",
      "Ingrese su nota del primer parcial :4\n",
      "Ingrese su nota del segundo parcial :4\n",
      "Ingrese su nota del tercer parcial :3\n",
      "Ingrese el numero de fallas que tuvo :1\n",
      "Su promedio es :  3.6999999999999997\n",
      "¡Gano Academicamente¡\n"
     ]
    }
   ],
   "source": [
    "nombre_del_estudiante=input(\"Ingrese su nombre :\")\n",
    "pparcial=float(input(\"Ingrese su nota del primer parcial :\"))\n",
    "sparcial=float(input(\"Ingrese su nota del segundo parcial :\"))\n",
    "tparcial=float(input(\"Ingrese su nota del tercer parcial :\"))\n",
    "acomulado_de_inasistencia=int(input(\"Ingrese el numero de fallas que tuvo :\"))\n",
    "promedio=(pparcial*35/100+sparcial*35/100+tparcial*35/100)\n",
    "print(\"Su promedio es : \",promedio)\n",
    "if promedio>=3 and acomulado_de_inasistencia<12:\n",
    "    print(\"¡Gano Academicamente¡\")\n",
    "if promedio<3 and acomulado_de_inasistencia<12:\n",
    "          print(\"Perdio academicamente\")\n",
    "if acomulado_de_inasistencia>12:\n",
    "          print(\"perdio por inasistencia\")\n",
    "if promedio<3 and acomulado_de_inasistencia>12:\n",
    "          print(\"perdio academicamente y por inasistencia\")"
   ]
  },
  {
   "cell_type": "code",
   "execution_count": null,
   "metadata": {},
   "outputs": [],
   "source": []
  }
 ],
 "metadata": {
  "kernelspec": {
   "display_name": "Python 3",
   "language": "python",
   "name": "python3"
  },
  "language_info": {
   "codemirror_mode": {
    "name": "ipython",
    "version": 3
   },
   "file_extension": ".py",
   "mimetype": "text/x-python",
   "name": "python",
   "nbconvert_exporter": "python",
   "pygments_lexer": "ipython3",
   "version": "3.8.5"
  }
 },
 "nbformat": 4,
 "nbformat_minor": 4
}
