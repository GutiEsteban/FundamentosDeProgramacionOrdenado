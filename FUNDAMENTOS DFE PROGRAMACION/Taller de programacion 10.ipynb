{
 "cells": [
  {
   "cell_type": "markdown",
   "metadata": {},
   "source": [
    "# Ejercicio 10 \n",
    "#  Calcular el área y perímetro de un rectángulo"
   ]
  },
  {
   "cell_type": "code",
   "execution_count": 41,
   "metadata": {},
   "outputs": [
    {
     "name": "stdout",
     "output_type": "stream",
     "text": [
      "ingrese la medida del largo del rectangulo: 4\n",
      "ingrese la medida del ancho del rectangulo: 2\n",
      "El area del rectangulo es :  8\n",
      "El perimetro del restangulo es:  12\n",
      "El area y el perimetro es :  (8, 12)\n"
     ]
    }
   ],
   "source": [
    "lado=int(input(\"ingrese la medida del largo del rectangulo: \"))\n",
    "lado2=int(input(\"ingrese la medida del ancho del rectangulo: \"))\n",
    "area=lado*lado2\n",
    "perimetro=lado*2+lado2*2\n",
    "los2=area,perimetro\n",
    "print(\"El area del rectangulo es : \",area)\n",
    "print(\"El perimetro del restangulo es: \",perimetro)\n",
    "print(\"El area y el perimetro es : \",los2)\n",
    "\n",
    "    \n",
    "\n",
    "\n",
    "\n"
   ]
  },
  {
   "cell_type": "code",
   "execution_count": null,
   "metadata": {},
   "outputs": [],
   "source": []
  }
 ],
 "metadata": {
  "kernelspec": {
   "display_name": "Python 3",
   "language": "python",
   "name": "python3"
  },
  "language_info": {
   "codemirror_mode": {
    "name": "ipython",
    "version": 3
   },
   "file_extension": ".py",
   "mimetype": "text/x-python",
   "name": "python",
   "nbconvert_exporter": "python",
   "pygments_lexer": "ipython3",
   "version": "3.8.5"
  }
 },
 "nbformat": 4,
 "nbformat_minor": 4
}
