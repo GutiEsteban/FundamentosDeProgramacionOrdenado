{
 "cells": [
  {
   "cell_type": "markdown",
   "metadata": {},
   "source": [
    "# Ejercicio 11\n",
    "# Calcular las raíces de una ecuación cuadrática.  Suponga que los datos ingresados no generan raíces imaginarias."
   ]
  },
  {
   "cell_type": "code",
   "execution_count": 41,
   "metadata": {},
   "outputs": [
    {
     "name": "stdout",
     "output_type": "stream",
     "text": [
      "para calcular las raices ingrese los siguientes datos: \n",
      "ingrese el valor de a: 2\n",
      "ingrese el valor de b: 9\n",
      "ingrese el valor de c: 10\n",
      "la primera solucion es : -2.5\n",
      "la segunda solucion es : -2.0\n"
     ]
    }
   ],
   "source": [
    "print(\"para calcular las raices ingrese los siguientes datos: \")\n",
    "a=float(input(\"ingrese el valor de a: \"))\n",
    "b=float(input(\"ingrese el valor de b: \"))\n",
    "c=float(input(\"ingrese el valor de c: \"))\n",
    "raizz=(-b-((b*b)-(4*a*c))**0.5)/(2*a)\n",
    "raiz=(-b+((b*b)-(4*a*c))**0.5)/(2*a)\n",
    "print(\"la primera solucion es :\",raizz)\n",
    "print(\"la segunda solucion es :\",raiz)"
   ]
  },
  {
   "cell_type": "code",
   "execution_count": null,
   "metadata": {},
   "outputs": [],
   "source": []
  }
 ],
 "metadata": {
  "kernelspec": {
   "display_name": "Python 3",
   "language": "python",
   "name": "python3"
  },
  "language_info": {
   "codemirror_mode": {
    "name": "ipython",
    "version": 3
   },
   "file_extension": ".py",
   "mimetype": "text/x-python",
   "name": "python",
   "nbconvert_exporter": "python",
   "pygments_lexer": "ipython3",
   "version": "3.8.5"
  }
 },
 "nbformat": 4,
 "nbformat_minor": 4
}
