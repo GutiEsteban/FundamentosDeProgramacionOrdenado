{
 "cells": [
  {
   "cell_type": "markdown",
   "metadata": {},
   "source": [
    "# Ejercicio 5\n",
    "# Calcular la velocidad a la que debe ir un vehículo para recorrer una distancia d en un tiempo t."
   ]
  },
  {
   "cell_type": "code",
   "execution_count": 1,
   "metadata": {},
   "outputs": [
    {
     "name": "stdout",
     "output_type": "stream",
     "text": [
      "Ingrese la distancia: 6\n",
      "Ingrese el tiempo :3\n",
      "La velocidad a la que debe ir el vehiculo para recorrer esta distancia entre dicho tiempo es : 2.0\n"
     ]
    }
   ],
   "source": [
    "distancia=float(input(\"Ingrese la distancia: \"))\n",
    "tiempo=float(input(\"Ingrese el tiempo :\"))\n",
    "velocidad=distancia/tiempo\n",
    "print(\"La velocidad a la que debe ir el vehiculo para recorrer esta distancia entre dicho tiempo es :\", velocidad)"
   ]
  }
 ],
 "metadata": {
  "kernelspec": {
   "display_name": "Python 3",
   "language": "python",
   "name": "python3"
  },
  "language_info": {
   "codemirror_mode": {
    "name": "ipython",
    "version": 3
   },
   "file_extension": ".py",
   "mimetype": "text/x-python",
   "name": "python",
   "nbconvert_exporter": "python",
   "pygments_lexer": "ipython3",
   "version": "3.8.5"
  }
 },
 "nbformat": 4,
 "nbformat_minor": 4
}
