{
 "cells": [
  {
   "cell_type": "markdown",
   "metadata": {},
   "source": [
    "### Calcular el valor a pagar de una compra realizada,cuyo monto neto es ingresado por el usuario ,considere que el valor del IVA (19%), y un descuento del 5% para todas las compras."
   ]
  },
  {
   "cell_type": "markdown",
   "metadata": {},
   "source": [
    "# Ejercicio 1"
   ]
  },
  {
   "cell_type": "code",
   "execution_count": 20,
   "metadata": {},
   "outputs": [
    {
     "name": "stdout",
     "output_type": "stream",
     "text": [
      "ingrese el valor neto de la compra : 15000\n",
      "El total a pagar con descuento e iva es :  17100.0\n"
     ]
    }
   ],
   "source": [
    "descuento=float(valor_de_la_compra*0.05)\n",
    "valor_de_la_compra=(int(input(\"ingrese el valor neto de la compra : \")))\n",
    "iva_total=float(1.19)\n",
    "total_a_pagar=(iva_total*valor_de_la_compra)-descuento\n",
    "print(\"El total a pagar con descuento e iva es : \",total_a_pagar)"
   ]
  }
 ],
 "metadata": {
  "kernelspec": {
   "display_name": "Python 3",
   "language": "python",
   "name": "python3"
  },
  "language_info": {
   "codemirror_mode": {
    "name": "ipython",
    "version": 3
   },
   "file_extension": ".py",
   "mimetype": "text/x-python",
   "name": "python",
   "nbconvert_exporter": "python",
   "pygments_lexer": "ipython3",
   "version": "3.8.5"
  }
 },
 "nbformat": 4,
 "nbformat_minor": 4
}
