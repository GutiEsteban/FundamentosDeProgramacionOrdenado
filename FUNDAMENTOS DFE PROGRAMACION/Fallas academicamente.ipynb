{
 "cells": [
  {
   "cell_type": "code",
   "execution_count": null,
   "metadata": {},
   "outputs": [],
   "source": [
    "## Leer nombre de un estudiante ,las notas de los 3 parciales , el acomulado de inasistencias y calcular\n",
    "## la nota definitiva sabiendo que PP tiene un % del 35% , sp tiene un % del 35% y el restante es para el tercer parcial. Imprimir la nota definitiva mas un concepto:\n",
    "# gano academicamente                             fallas <a 12 y nota definitiva >=3\n",
    "# perdio academicamente                           fallas < a 12 y nota definitiva <3\n",
    "# perdio por inasistencia                         fallas < a 12 y nota definitiva no importa y se divide por la mitad\n",
    "# perdio academicamente y por inasistencia        fallas > a 12 y notas definitiva <3"
   ]
  },
  {
   "cell_type": "code",
   "execution_count": 9,
   "metadata": {},
   "outputs": [
    {
     "name": "stdout",
     "output_type": "stream",
     "text": [
      "Escriba su nombreEsteban\n",
      "Esteban\n",
      "ingrese la nota del primer parcial4\n",
      "ingrese la nota del segundo parcial5\n",
      "ingrese la nota del tercer parcial parcial4\n",
      "4.333333333333333\n"
     ]
    }
   ],
   "source": [
    "nombre_del_estudiante=print(input(\"Escriba su nombre :\"))\n",
    "nota_del_primer_parcial=int(int(input(\"ingrese la nota del primer parcial :\")))\n",
    "nota_del_segundo_parcial=int(int(input(\"ingrese la nota del segundo parcial :\")))\n",
    "nota_del_tercer_parcial=int(int(input(\"ingrese la nota del tercer parcial parcial :\")))\n",
    "promedio=(nota_del_primer_parcial+nota_del_segundo_parcial+nota_del_tercer_parcial)/3\n",
    "print(promedio)"
   ]
  },
  {
   "cell_type": "code",
   "execution_count": null,
   "metadata": {},
   "outputs": [],
   "source": []
  }
 ],
 "metadata": {
  "kernelspec": {
   "display_name": "Python 3",
   "language": "python",
   "name": "python3"
  },
  "language_info": {
   "codemirror_mode": {
    "name": "ipython",
    "version": 3
   },
   "file_extension": ".py",
   "mimetype": "text/x-python",
   "name": "python",
   "nbconvert_exporter": "python",
   "pygments_lexer": "ipython3",
   "version": "3.8.5"
  }
 },
 "nbformat": 4,
 "nbformat_minor": 4
}
