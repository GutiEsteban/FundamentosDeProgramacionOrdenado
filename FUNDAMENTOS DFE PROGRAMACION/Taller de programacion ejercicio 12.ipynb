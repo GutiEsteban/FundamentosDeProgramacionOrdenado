{
 "cells": [
  {
   "cell_type": "markdown",
   "metadata": {},
   "source": [
    "# Ejercicio 12\n",
    "# Calcular el sueldo total a recibir de un empleado.  El usuario deberá ingresar el número de horas trabajadas y el valor por cada hora. Considere en los cálculos el descuento de seguridad social (del 4%) y una bonificación del 2% para aquellos cuyo sueldo no supere los 300 dólares."
   ]
  },
  {
   "cell_type": "code",
   "execution_count": 13,
   "metadata": {},
   "outputs": [
    {
     "name": "stdout",
     "output_type": "stream",
     "text": [
      "ingrese las horas trabajadas: 40\n",
      "ingrese el valor por hora de trabajo :  8\n",
      "este es su sueldo sin bonificacion : 319.96\n"
     ]
    }
   ],
   "source": [
    "horas_trabajadas=int(input(\"ingrese las horas trabajadas: \"))\n",
    "valor_por_hora=int(input(\"ingrese el valor por hora de trabajo :  \"))\n",
    "sueldo=(horas_trabajadas*valor_por_hora)-(4/100)\n",
    "sueldo_con_bonificacion=sueldo+(2/100)\n",
    "if sueldo<=300:\n",
    "   print(\"El sueldo con la  bonificacion del 2% es  :\",sueldo_con_bonificacion)\n",
    "if sueldo>300:\n",
    "    print(\"este es su sueldo sin bonificacion :\",sueldo)"
   ]
  }
 ],
 "metadata": {
  "kernelspec": {
   "display_name": "Python 3",
   "language": "python",
   "name": "python3"
  },
  "language_info": {
   "codemirror_mode": {
    "name": "ipython",
    "version": 3
   },
   "file_extension": ".py",
   "mimetype": "text/x-python",
   "name": "python",
   "nbconvert_exporter": "python",
   "pygments_lexer": "ipython3",
   "version": "3.8.5"
  }
 },
 "nbformat": 4,
 "nbformat_minor": 4
}
