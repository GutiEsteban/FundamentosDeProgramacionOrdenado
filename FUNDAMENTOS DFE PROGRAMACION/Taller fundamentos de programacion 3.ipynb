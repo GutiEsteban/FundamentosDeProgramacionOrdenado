{
 "cells": [
  {
   "cell_type": "markdown",
   "metadata": {},
   "source": [
    "# Ejercicio 3\n",
    "# Realice un programa que obtenga el el indice de masa corporal de una persona , ingresando la estatura en centimetros y el peso en kilos"
   ]
  },
  {
   "cell_type": "code",
   "execution_count": 34,
   "metadata": {},
   "outputs": [
    {
     "name": "stdout",
     "output_type": "stream",
     "text": [
      "Por favor ingrese su estatura en centimetros : 175\n",
      "Por favor ingrese su peso en kilos : 76\n",
      "Su indice de masa corporal es :  24.816326530612244\n"
     ]
    }
   ],
   "source": [
    "estatura=float(input(\"Por favor ingrese su estatura en centimetros : \"))\n",
    "peso=float(input(\"Por favor ingrese su peso en kilos : \"))\n",
    "estatura_1=estatura/100\n",
    "imc=peso/estatura_1**2\n",
    "print(\"Su indice de masa corporal es : \",imc)"
   ]
  },
  {
   "cell_type": "code",
   "execution_count": null,
   "metadata": {},
   "outputs": [],
   "source": []
  }
 ],
 "metadata": {
  "kernelspec": {
   "display_name": "Python 3",
   "language": "python",
   "name": "python3"
  },
  "language_info": {
   "codemirror_mode": {
    "name": "ipython",
    "version": 3
   },
   "file_extension": ".py",
   "mimetype": "text/x-python",
   "name": "python",
   "nbconvert_exporter": "python",
   "pygments_lexer": "ipython3",
   "version": "3.8.5"
  }
 },
 "nbformat": 4,
 "nbformat_minor": 4
}
