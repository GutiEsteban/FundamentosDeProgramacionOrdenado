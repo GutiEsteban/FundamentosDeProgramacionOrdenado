{
 "cells": [
  {
   "cell_type": "markdown",
   "metadata": {},
   "source": [
    "# Ejercicio 2\n",
    "# Calcular el area de un circulo y longitud de tu circuferencia"
   ]
  },
  {
   "cell_type": "code",
   "execution_count": 5,
   "metadata": {},
   "outputs": [
    {
     "name": "stdout",
     "output_type": "stream",
     "text": [
      "Ingrese el radio del circulo : 3\n",
      "El area del circulo es :  27\n",
      "Y la longitud de la circuferencia es 18\n"
     ]
    }
   ],
   "source": [
    "radio=int(input(\"Ingrese el radio del circulo : \"))\n",
    "pi=int(3.14)\n",
    "area_del_circulo=pi*radio**2\n",
    "longitud_de_la_circuferencia=2*pi*radio\n",
    "print(\"El area del circulo es : \",area_del_circulo)\n",
    "print(\"Y la longitud de la circuferencia es\",longitud_de_la_circuferencia)\n"
   ]
  },
  {
   "cell_type": "code",
   "execution_count": null,
   "metadata": {},
   "outputs": [],
   "source": []
  }
 ],
 "metadata": {
  "kernelspec": {
   "display_name": "Python 3",
   "language": "python",
   "name": "python3"
  },
  "language_info": {
   "codemirror_mode": {
    "name": "ipython",
    "version": 3
   },
   "file_extension": ".py",
   "mimetype": "text/x-python",
   "name": "python",
   "nbconvert_exporter": "python",
   "pygments_lexer": "ipython3",
   "version": "3.8.5"
  }
 },
 "nbformat": 4,
 "nbformat_minor": 4
}
