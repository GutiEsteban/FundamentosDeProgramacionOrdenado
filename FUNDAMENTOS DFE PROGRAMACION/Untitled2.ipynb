{
 "cells": [
  {
   "cell_type": "code",
   "execution_count": 1,
   "metadata": {},
   "outputs": [
    {
     "ename": "SyntaxError",
     "evalue": "invalid syntax (<ipython-input-1-be24b90e5541>, line 1)",
     "output_type": "error",
     "traceback": [
      "\u001b[1;36m  File \u001b[1;32m\"<ipython-input-1-be24b90e5541>\"\u001b[1;36m, line \u001b[1;32m1\u001b[0m\n\u001b[1;33m    float potencia(float base, int exponente) {\u001b[0m\n\u001b[1;37m          ^\u001b[0m\n\u001b[1;31mSyntaxError\u001b[0m\u001b[1;31m:\u001b[0m invalid syntax\n"
     ]
    }
   ],
   "source": [
    "float potencia(float base, int exponente) {\n",
    "    float resultado = 1;\n",
    "    int i;\n",
    "    for (i = 0; i < exponente; ++i) {\n",
    "        resultado *= base;\n",
    "    }\n",
    "    return resultado;\n",
    "}\n",
    "\n",
    "\n",
    "int main() {\n",
    "    float x, y, resultado;\n",
    "    char op;\n",
    "    int valido = 1;\n",
    "\n",
    "    printf(\"Ingrese operacion: \");\n",
    "    scanf(\"%c\", &op);\n",
    "    printf(\"Ingrese x: \");\n",
    "    scanf(\"%f\", &x);\n",
    "    printf(\"Ingrese y: \");\n",
    "    scanf(\"%f\", &y);\n",
    "\n",
    "    switch (op) {\n",
    "        case '+':\n",
    "            resultado = x + y;\n",
    "            break;\n",
    "        case '-':\n",
    "            resultado = x - y;\n",
    "            break;\n",
    "        case '*':\n",
    "        case 'x':\n",
    "            resultado = x * y;\n",
    "            break;\n",
    "        case '/':\n",
    "            resultado = x / y;\n",
    "            break;\n",
    "        case '^':\n",
    "            resultado = potencia(x, (int) y);\n",
    "            break;\n",
    "        default:\n",
    "            valido = 0;\n",
    "    }\n",
    "\n",
    "    if (valido)\n",
    "        printf(\"El resultado es %f\\n\", resultado);\n",
    "    else\n",
    "        printf(\"Operacion invalida\\n\");\n",
    "\n",
    "    return 0;"
   ]
  }
 ],
 "metadata": {
  "kernelspec": {
   "display_name": "Python 3",
   "language": "python",
   "name": "python3"
  },
  "language_info": {
   "codemirror_mode": {
    "name": "ipython",
    "version": 3
   },
   "file_extension": ".py",
   "mimetype": "text/x-python",
   "name": "python",
   "nbconvert_exporter": "python",
   "pygments_lexer": "ipython3",
   "version": "3.8.5"
  }
 },
 "nbformat": 4,
 "nbformat_minor": 4
}
