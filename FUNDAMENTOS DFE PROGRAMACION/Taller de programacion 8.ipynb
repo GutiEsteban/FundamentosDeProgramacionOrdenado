{
 "cells": [
  {
   "cell_type": "markdown",
   "metadata": {},
   "source": [
    "# Ejercicio 8\n",
    "# Calcular la fuerza que se debe aplicar a un cuerpo para moverlo en una mesa horizontal,  sabiendo que tiene una masa m (kg) y un coeficiente de rozamiento estático"
   ]
  },
  {
   "cell_type": "code",
   "execution_count": 22,
   "metadata": {},
   "outputs": [
    {
     "name": "stdout",
     "output_type": "stream",
     "text": [
      "Ingrese la cantidad de la masa en KG :3\n",
      "Ingrese la magnitud de la friccion :4\n",
      "La fuerza que se debe aplicar a un cuerpo es:  120\n"
     ]
    }
   ],
   "source": [
    "masa=int(input(\"Ingrese la cantidad de la masa en KG :\"))\n",
    "us=int(input(\"Ingrese la magnitud de la friccion :\"))\n",
    "aceleracion=10\n",
    "fuerza_neta=masa*aceleracion\n",
    "print(\"La fuerza que se debe aplicar a un cuerpo es: \",fuerza_neta*us)"
   ]
  }
 ],
 "metadata": {
  "kernelspec": {
   "display_name": "Python 3",
   "language": "python",
   "name": "python3"
  },
  "language_info": {
   "codemirror_mode": {
    "name": "ipython",
    "version": 3
   },
   "file_extension": ".py",
   "mimetype": "text/x-python",
   "name": "python",
   "nbconvert_exporter": "python",
   "pygments_lexer": "ipython3",
   "version": "3.8.5"
  }
 },
 "nbformat": 4,
 "nbformat_minor": 4
}
