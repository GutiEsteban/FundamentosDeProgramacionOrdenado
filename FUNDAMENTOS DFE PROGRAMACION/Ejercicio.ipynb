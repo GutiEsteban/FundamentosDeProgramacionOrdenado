{
 "cells": [
  {
   "cell_type": "markdown",
   "metadata": {},
   "source": [
    "# ACTIVIDADES 1"
   ]
  },
  {
   "cell_type": "markdown",
   "metadata": {},
   "source": [
    "Calcular el valor a pagar de una compra realizada,cuyo monto neto es ingresado por el usuario ,considere que el valor del IVA (19%), y un descuento del 5% para todas las compras."
   ]
  },
  {
   "cell_type": "code",
   "execution_count": 1,
   "metadata": {},
   "outputs": [
    {
     "name": "stdout",
     "output_type": "stream",
     "text": [
      "ingrese el valor neto de la compra : 10000\n",
      "El total a pagar con descuento e iva es :  1899.9\n"
     ]
    }
   ],
   "source": [
    "descuento=5/100\n",
    "iva=19/100\n",
    "valor_de_la_compra=(int(input(\"ingrese el valor neto de la compra : \")))\n",
    "total_a_pagar=(iva*valor_de_la_compra-descuento)-descuento\n",
    "print(\"El total a pagar con descuento e iva es : \",total_a_pagar)"
   ]
  }
 ],
 "metadata": {
  "kernelspec": {
   "display_name": "Python 3",
   "language": "python",
   "name": "python3"
  },
  "language_info": {
   "codemirror_mode": {
    "name": "ipython",
    "version": 3
   },
   "file_extension": ".py",
   "mimetype": "text/x-python",
   "name": "python",
   "nbconvert_exporter": "python",
   "pygments_lexer": "ipython3",
   "version": "3.8.5"
  }
 },
 "nbformat": 4,
 "nbformat_minor": 4
}
